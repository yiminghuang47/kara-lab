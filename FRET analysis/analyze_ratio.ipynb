{
 "cells": [
  {
   "cell_type": "code",
   "execution_count": 47,
   "metadata": {},
   "outputs": [],
   "source": [
    "import pandas as pd\n",
    "import numpy as np\n"
   ]
  },
  {
   "cell_type": "code",
   "execution_count": 48,
   "metadata": {},
   "outputs": [],
   "source": [
    "def add_ratio_columns(file):\n",
    "    row_1_list = [i for i in range(8,16,2)]\n",
    "    row_2_list = [i for i in range(21,42,2)]\n",
    "    print(row_1_list)\n",
    "    print(row_2_list)\n",
    "    \n",
    "\n",
    "    # import csv\n",
    "    df = pd.read_excel(file)\n",
    "    \n",
    "    columns_list = ['Average_Intensity_Whole_Image', 'Average_Intensity_Without_Inclusions', 'Average_Intensity_Only_Inclusions']\n",
    "\n",
    "\n",
    "    for row_1 in row_1_list:\n",
    "        for col_index, column in enumerate(columns_list):\n",
    "            column_name = f\"{column}_Ratio_Row{row_1}\"\n",
    "            # iterate through each row\n",
    "            for index, row in df.iterrows():\n",
    "                if row['Channel'] in row_2_list:\n",
    "                    row_2 = row['Channel']\n",
    "                    df.at[index, column_name] = df.iloc[index, col_index+2] / df.iloc[index-row_2+row_1, col_index+2]\n",
    "    # save the dataframe to a new excel file\n",
    "    df.to_excel(f'{file}_with_ratio.xlsx', index=False)\n",
    "\n"
   ]
  },
  {
   "cell_type": "code",
   "execution_count": 49,
   "metadata": {},
   "outputs": [
    {
     "name": "stdout",
     "output_type": "stream",
     "text": [
      "[8, 10, 12, 14]\n",
      "[21, 23, 25, 27, 29, 31, 33, 35, 37, 39, 41]\n",
      "[8, 10, 12, 14]\n",
      "[21, 23, 25, 27, 29, 31, 33, 35, 37, 39, 41]\n",
      "[8, 10, 12, 14]\n",
      "[21, 23, 25, 27, 29, 31, 33, 35, 37, 39, 41]\n"
     ]
    }
   ],
   "source": [
    "files = ['020325_C12 Settings_analysis.xlsx','020325_Lipidtox_Red Settings_analysis.xlsx','012725_Lipidtox_settings_analysis.xlsx']\n",
    "for file in files:\n",
    "    add_ratio_columns(file)"
   ]
  },
  {
   "cell_type": "code",
   "execution_count": null,
   "metadata": {},
   "outputs": [],
   "source": []
  }
 ],
 "metadata": {
  "kernelspec": {
   "display_name": ".venv",
   "language": "python",
   "name": "python3"
  },
  "language_info": {
   "codemirror_mode": {
    "name": "ipython",
    "version": 3
   },
   "file_extension": ".py",
   "mimetype": "text/x-python",
   "name": "python",
   "nbconvert_exporter": "python",
   "pygments_lexer": "ipython3",
   "version": "3.12.8"
  }
 },
 "nbformat": 4,
 "nbformat_minor": 2
}
