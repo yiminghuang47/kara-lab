{
 "cells": [
  {
   "cell_type": "markdown",
   "id": "9706e858",
   "metadata": {},
   "source": [
    "The purpose of this code is to quantify the nuclei, the size and number of synuclein inclusions for each image."
   ]
  },
  {
   "cell_type": "markdown",
   "id": "9d30d31b",
   "metadata": {},
   "source": [
    "Import Libraries"
   ]
  },
  {
   "cell_type": "code",
   "execution_count": 25,
   "id": "a15984f4",
   "metadata": {},
   "outputs": [
    {
     "name": "stderr",
     "output_type": "stream",
     "text": [
      "c:\\Users\\yh1024\\Documents\\Yiming Huang\\.venv\\Lib\\site-packages\\cellpose\\resnet_torch.py:275: FutureWarning: You are using `torch.load` with `weights_only=False` (the current default value), which uses the default pickle module implicitly. It is possible to construct malicious pickle data which will execute arbitrary code during unpickling (See https://github.com/pytorch/pytorch/blob/main/SECURITY.md#untrusted-models for more details). In a future release, the default value for `weights_only` will be flipped to `True`. This limits the functions that could be executed during unpickling. Arbitrary objects will no longer be allowed to be loaded via this mode unless they are explicitly allowlisted by the user via `torch.serialization.add_safe_globals`. We recommend you start setting `weights_only=True` for any use case where you don't have full control of the loaded file. Please open an issue on GitHub for any issues related to this experimental feature.\n",
      "  state_dict = torch.load(filename, map_location=torch.device(\"cpu\"))\n"
     ]
    }
   ],
   "source": [
    "import os\n",
    "import numpy as np\n",
    "import pandas as pd\n",
    "import matplotlib.pyplot as plt\n",
    "from skimage.filters import gaussian, threshold_otsu, threshold_multiotsu\n",
    "from skimage.measure import label, regionprops\n",
    "from skimage.morphology import remove_small_objects, binary_dilation, disk\n",
    "import czifile\n",
    "import skimage.io as io\n",
    "from skimage import exposure\n",
    "from cellpose import models\n",
    "model = models.Cellpose(model_type='cyto')"
   ]
  },
  {
   "cell_type": "markdown",
   "id": "43beac27",
   "metadata": {},
   "source": [
    "Define Sub Functions"
   ]
  },
  {
   "cell_type": "code",
   "execution_count": 26,
   "id": "4df11f4b",
   "metadata": {},
   "outputs": [],
   "source": [
    "def show_image(image):\n",
    "    io.imshow(image, cmap='gray')\n",
    "    plt.show()\n",
    "\n",
    "\n",
    "def calculate_average_intensity(image):\n",
    "    \"\"\"Calculate the average intensity of the image.\"\"\"\n",
    "    return np.mean(image)\n",
    "\n",
    "def find_inclusion_mask(image):\n",
    "    \"\"\"Find the inclusion mask using multi-otsu thresholding.\"\"\"\n",
    "    thresholds = threshold_multiotsu(image, classes=3)\n",
    "    regions = np.digitize(image, bins=thresholds)\n",
    "    inclusion_mask = (regions == 2).astype(int)\n",
    "    \n",
    "    return inclusion_mask"
   ]
  },
  {
   "cell_type": "code",
   "execution_count": 27,
   "id": "966def43",
   "metadata": {},
   "outputs": [],
   "source": [
    "def analyze_image(image_path, basename):\n",
    "    \"\"\"\n",
    "    Analyze an image by its individual cells\n",
    "    Args:\n",
    "        image_path: Path to the .czi image file.\n",
    "        basename: Base name for the file, used in the output DataFrame.\n",
    "\n",
    "    Returns:\n",
    "        A DataFrame containing details about each image \n",
    "        A second DataFrame containing details about each detected cell\n",
    "    \"\"\"\n",
    "    \n",
    "    # Load the image and squeeze dimensions\n",
    "    image = czifile.imread(image_path)\n",
    "    image_squeezed = np.squeeze(image)\n",
    "    \n",
    "    # find image with max average intensity\n",
    "    max_average_intensity = 0\n",
    "    max_average_intensity_image = None\n",
    "    for c in range(image_squeezed.shape[0]):\n",
    "        green_channel = image_squeezed[c, :, :]\n",
    "        average_intensity = calculate_average_intensity(green_channel)\n",
    "        if average_intensity > max_average_intensity:\n",
    "            max_average_intensity = average_intensity\n",
    "            max_average_intensity_image = green_channel\n",
    "\n",
    "    mask = find_inclusion_mask(max_average_intensity_image).astype(bool)\n",
    "    show_image(mask)\n",
    "    inverse_mask = np.logical_not(mask)\n",
    "    show_image(inverse_mask)\n",
    "    intensities_without_inclusions = []\n",
    "    intensities_only_inclusions = []\n",
    "    intensities_whole_image = []\n",
    "    for c in range(image_squeezed.shape[0]):\n",
    "        green_channel = image_squeezed[c, :, :]\n",
    "        average_intensity_whole_image = calculate_average_intensity(green_channel)\n",
    "        intensities_whole_image.append(average_intensity_whole_image)\n",
    "        show_image(green_channel)\n",
    "        applied_mask_without_inclusions = green_channel[inverse_mask]\n",
    "\n",
    "        applied_mask_only_inclusions = green_channel [mask]\n",
    "\n",
    "        average_intensity_without_inclusions = calculate_average_intensity(applied_mask_without_inclusions)\n",
    "        intensities_without_inclusions.append(average_intensity_without_inclusions)\n",
    "        average_intensity_only_inclusions = calculate_average_intensity(applied_mask_only_inclusions)\n",
    "        intensities_only_inclusions.append(average_intensity_only_inclusions)\n",
    "\n",
    "\n",
    "\n",
    "    df1 = pd.DataFrame({\n",
    "        \"File_Name:\": [basename] * image_squeezed.shape[0],\n",
    "        \"Channel\": range(image_squeezed.shape[0]),\n",
    "        \"Average_Intensity_Whole_Image\": intensities_whole_image,\n",
    "        \"Average_Intensity_Without_Inclusions\": intensities_without_inclusions,\n",
    "        \"Average_Intensity_Only_Inclusions\": intensities_only_inclusions\n",
    "\n",
    "    })\n",
    "    \n",
    "    \n",
    "    return df1\n"
   ]
  },
  {
   "cell_type": "code",
   "execution_count": 28,
   "id": "112fe69b",
   "metadata": {},
   "outputs": [],
   "source": [
    "def analyze_all_images(image_folder):\n",
    "    all_data_1 = []\n",
    "    for well_image in os.listdir(image_folder):\n",
    "        \n",
    "        if well_image.lower().endswith(\".czi\"):  # Filter for CZI files\n",
    "            \n",
    "            print(well_image)\n",
    "            if \"conventional\" in well_image.lower():\n",
    "                continue\n",
    "\n",
    "            well_image_path = os.path.join(image_folder, well_image)\n",
    "            well_image_base_name = os.path.basename(well_image)[:-4]\n",
    "            \n",
    "            df1 = analyze_image(well_image_path, well_image_base_name)\n",
    "            all_data_1.append(df1)\n",
    "            \n",
    "            print(\"-\" * 200)\n",
    "\n",
    "    combined_df_1 = pd.concat(all_data_1, ignore_index=True)\n",
    "    file_name = image_folder.replace(\"/\", \"_\")\n",
    "    combined_df_1.to_excel(f\"{image_folder}_analysis.xlsx\", index=False)\n"
   ]
  },
  {
   "cell_type": "markdown",
   "id": "06a3f383",
   "metadata": {},
   "source": [
    "Define Main Function"
   ]
  },
  {
   "cell_type": "code",
   "execution_count": 29,
   "id": "97adf20f",
   "metadata": {},
   "outputs": [],
   "source": [
    "# folders = ['012025_FRET_optimization/new_settings','012725_FRET_optimize/C12_settings','012725_FRET_optimize/Lipidtox_settings']\n",
    "folders = ['020325_FRET_optimize/C12 Settings','020325_FRET_optimize/Lipidtox_Red Settings']"
   ]
  },
  {
   "cell_type": "code",
   "execution_count": null,
   "id": "58fcf244",
   "metadata": {},
   "outputs": [],
   "source": [
    "for folder in folders:\n",
    "    analyze_all_images(folder)\n"
   ]
  },
  {
   "cell_type": "code",
   "execution_count": null,
   "id": "246cba3c",
   "metadata": {},
   "outputs": [],
   "source": []
  },
  {
   "cell_type": "code",
   "execution_count": null,
   "id": "1ab12780",
   "metadata": {},
   "outputs": [],
   "source": []
  }
 ],
 "metadata": {
  "kernelspec": {
   "display_name": ".venv",
   "language": "python",
   "name": "python3"
  },
  "language_info": {
   "codemirror_mode": {
    "name": "ipython",
    "version": 3
   },
   "file_extension": ".py",
   "mimetype": "text/x-python",
   "name": "python",
   "nbconvert_exporter": "python",
   "pygments_lexer": "ipython3",
   "version": "3.12.8"
  }
 },
 "nbformat": 4,
 "nbformat_minor": 5
}
